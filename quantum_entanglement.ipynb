{
 "cells": [
  {
   "cell_type": "code",
   "execution_count": 1,
   "metadata": {},
   "outputs": [
    {
     "data": {
      "text/html": [
       "<pre style=\"word-wrap: normal;white-space: pre;background: #fff0;line-height: 1.1;font-family: &quot;Courier New&quot;,Courier,monospace\">        ┌───┐     ┌─┐   \n",
       "q_0: |0>┤ H ├──■──┤M├───\n",
       "        └───┘┌─┴─┐└╥┘┌─┐\n",
       "q_1: |0>─────┤ X ├─╫─┤M├\n",
       "             └───┘ ║ └╥┘\n",
       " c_0: 0 ═══════════╩══╬═\n",
       "                      ║ \n",
       " c_1: 0 ══════════════╩═\n",
       "                        </pre>"
      ],
      "text/plain": [
       "<qiskit.visualization.text.TextDrawing at 0x134a406a0>"
      ]
     },
     "execution_count": 1,
     "metadata": {},
     "output_type": "execute_result"
    }
   ],
   "source": [
    "# make quantum circuit\n",
    "import qiskit as q\n",
    "\n",
    "qc = q.QuantumCircuit(2, 2)  # map 2 qbits to 2 cbits\n",
    "qc.h(0)  # set Hadamard gate on qubit 0 --> qubit 0 is in superposition\n",
    "qc.cx(0, 1)  # set controlled not gate with target qbit 1, control qbit 0 (the one in superposition)\n",
    "qc.measure([0, 1], [0, 1])  # measure --> collapse each qbit into a cbit\n",
    "\n",
    "qc.draw()"
   ]
  },
  {
   "cell_type": "code",
   "execution_count": 2,
   "metadata": {},
   "outputs": [
    {
     "data": {
      "text/plain": [
       "<AccountProvider for IBMQ(hub='ibm-q', group='open', project='main')>"
      ]
     },
     "execution_count": 2,
     "metadata": {},
     "output_type": "execute_result"
    }
   ],
   "source": [
    "q.IBMQ.load_account()"
   ]
  },
  {
   "cell_type": "code",
   "execution_count": 3,
   "metadata": {},
   "outputs": [
    {
     "name": "stdout",
     "output_type": "stream",
     "text": [
      "ibmqx2 has 43 queued and 5 qubits\n",
      "ibmq_16_melbourne has 9 queued and 14 qubits\n",
      "ibmq_vigo has 8 queued and 5 qubits\n",
      "ibmq_ourense has 6 queued and 5 qubits\n",
      "ibmq_london has 21 queued and 5 qubits\n",
      "ibmq_burlington has 7 queued and 5 qubits\n",
      "ibmq_essex has 5 queued and 5 qubits\n",
      "\n",
      "The chosen backend is ibmq_essex, with a queue of 5 jobs.\n",
      "Job Status: job has successfully run\n"
     ]
    }
   ],
   "source": [
    "# run job on the least busy IBM quantum computer\n",
    "\n",
    "from qiskit.tools.monitor import job_monitor\n",
    "\n",
    "provider = q.IBMQ.get_provider(\"ibm-q\")\n",
    "queued = float(\"inf\")\n",
    "\n",
    "for backend in [backend for backend in provider.backends() if backend.properties()]: # discard simulator\n",
    "    print(f\"{backend.name()} has {backend.status().pending_jobs} queued and {len(backend.properties().qubits)} qubits\")\n",
    "    if backend.status().pending_jobs < queued:\n",
    "        queued = backend.status().pending_jobs\n",
    "        backend_to_use = backend\n",
    "        \n",
    "print(f\"\\nThe chosen backend is {backend_to_use.name()}, with a queue of {backend_to_use.status().pending_jobs} jobs.\")\n",
    "\n",
    "backend = provider.get_backend(backend_to_use.name())\n",
    "job = q.execute(qc, backend=backend, shots=1024)\n",
    "job_monitor(job)"
   ]
  },
  {
   "cell_type": "code",
   "execution_count": 4,
   "metadata": {},
   "outputs": [
    {
     "data": {
      "image/png": "[encoded data removed]",
      "text/plain": [
       "<Figure size 504x360 with 1 Axes>"
      ]
     },
     "execution_count": 4,
     "metadata": {},
     "output_type": "execute_result"
    }
   ],
   "source": [
    "# plot result and see that the entangled qubits collapse to the same cbit value in the vast majority of cases,\n",
    "# except for some cases due to internal noise of the quantum computer\n",
    "\n",
    "from qiskit.visualization import plot_histogram\n",
    "\n",
    "result = job.result()\n",
    "counts = result.get_counts(qc)\n",
    "\n",
    "plot_histogram([counts], legend=['Device'])"
   ]
  }
 ],
 "metadata": {
  "kernelspec": {
   "display_name": "Python 3",
   "language": "python",
   "name": "python3"
  },
  "language_info": {
   "codemirror_mode": {
    "name": "ipython",
    "version": 3
   },
   "file_extension": ".py",
   "mimetype": "text/x-python",
   "name": "python",
   "nbconvert_exporter": "python",
   "pygments_lexer": "ipython3",
   "version": "3.7.0"
  }
 },
 "nbformat": 4,
 "nbformat_minor": 4
}
