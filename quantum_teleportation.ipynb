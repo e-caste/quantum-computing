{
 "cells": [
  {
   "cell_type": "code",
   "execution_count": 1,
   "metadata": {},
   "outputs": [
    {
     "data": {
      "text/html": [
       "<pre style=\"word-wrap: normal;white-space: pre;background: #fff0;line-height: 1.1;font-family: &quot;Courier New&quot;,Courier,monospace\">         ┌─────────┐      ░      ┌───┐┌─┐\n",
       "q0_0: |0>┤ U1(0.5) ├──────░───■──┤ H ├┤M├\n",
       "         └──┬───┬──┘      ░ ┌─┴─┐└┬─┬┘└╥┘\n",
       "q0_1: |0>───┤ H ├─────■───░─┤ X ├─┤M├──╫─\n",
       "            └───┘   ┌─┴─┐ ░ └───┘ └╥┘  ║ \n",
       "q0_2: |0>───────────┤ X ├─░────────╫───╫─\n",
       "                    └───┘ ░        ║   ║ \n",
       " c0_0: 0 ══════════════════════════╬═══╩═\n",
       "                                   ║     \n",
       " c0_1: 0 ══════════════════════════╩═════\n",
       "                                         \n",
       " c0_2: 0 ════════════════════════════════\n",
       "                                         </pre>"
      ],
      "text/plain": [
       "<qiskit.visualization.text.TextDrawing at 0x13a904828>"
      ]
     },
     "execution_count": 1,
     "metadata": {},
     "output_type": "execute_result"
    }
   ],
   "source": [
    "# make quantum circuit\n",
    "import qiskit as qk\n",
    "\n",
    "# Create three quantum and classical registers\n",
    "q = qk.QuantumRegister(3)\n",
    "c = qk.ClassicalRegister(3)\n",
    "qc = qk.QuantumCircuit(q, c)\n",
    "\n",
    "# Prepare an initial state for qubit ① using a single unitary\n",
    "qc.u1(.5, q[0])\n",
    "# Prepare an entangled pair using qubit ② and qubit ③\n",
    "qc.h(q[1])\n",
    "qc.cx(q[1], q[2])\n",
    "# Barrier to prevent gate reordering for optimization\n",
    "qc.barrier(q)\n",
    "\n",
    "# Perform a CNOT between qubit ① and qubit ②\n",
    "qc.cx(q[0], q[1])\n",
    "# Measure qubit ② in the computational basis\n",
    "qc.measure(q[1], c[1])\n",
    "# If needed perform a bit flip correction to qubit ③\n",
    "if c[1] == 1:\n",
    "    qc.x(q[2])\n",
    "\n",
    "# Measure qubit ① in the + - basis\n",
    "qc.h(q[0])\n",
    "qc.measure(q[0], c[0])\n",
    "# If needed perform a phase correction to qubit ③\n",
    "if c[0] == 1:\n",
    "    qc.z(q[2])\n",
    "\n",
    "\n",
    "qc.draw()"
   ]
  },
  {
   "cell_type": "code",
   "execution_count": 2,
   "metadata": {},
   "outputs": [
    {
     "data": {
      "text/plain": [
       "<AccountProvider for IBMQ(hub='ibm-q', group='open', project='main')>"
      ]
     },
     "execution_count": 2,
     "metadata": {},
     "output_type": "execute_result"
    }
   ],
   "source": [
    "qk.IBMQ.load_account()"
   ]
  },
  {
   "cell_type": "code",
   "execution_count": 3,
   "metadata": {},
   "outputs": [
    {
     "name": "stdout",
     "output_type": "stream",
     "text": [
      "ibmqx2 has 12 queued and 5 qubits\n",
      "ibmq_16_melbourne has 4 queued and 14 qubits\n",
      "ibmq_vigo has 11 queued and 5 qubits\n",
      "ibmq_ourense has 63 queued and 5 qubits\n",
      "ibmq_london has 23 queued and 5 qubits\n",
      "ibmq_burlington has 7 queued and 5 qubits\n",
      "ibmq_essex has 9 queued and 5 qubits\n",
      "\n",
      "The chosen backend is ibmq_16_melbourne, with a queue of 4 jobs.\n",
      "Job Status: job has successfully run\n"
     ]
    }
   ],
   "source": [
    "# run job on the least busy IBM quantum computer\n",
    "\n",
    "from qiskit.tools.monitor import job_monitor\n",
    "\n",
    "provider = qk.IBMQ.get_provider(\"ibm-q\")\n",
    "queued = float(\"inf\")\n",
    "\n",
    "for backend in [backend for backend in provider.backends() if backend.properties()]: # discard simulator\n",
    "    print(f\"{backend.name()} has {backend.status().pending_jobs} queued and {len(backend.properties().qubits)} qubits\")\n",
    "    if backend.status().pending_jobs < queued:\n",
    "        queued = backend.status().pending_jobs\n",
    "        backend_to_use = backend\n",
    "        \n",
    "print(f\"\\nThe chosen backend is {backend_to_use.name()}, with a queue of {backend_to_use.status().pending_jobs} jobs.\")\n",
    "\n",
    "backend = provider.get_backend(backend_to_use.name())\n",
    "job = qk.execute(qc, backend=backend, shots=3072)\n",
    "job_monitor(job)"
   ]
  },
  {
   "cell_type": "code",
   "execution_count": 4,
   "metadata": {},
   "outputs": [
    {
     "data": {
      "image/png": "[encoded data removed]",
      "text/plain": [
       "<Figure size 504x360 with 1 Axes>"
      ]
     },
     "execution_count": 4,
     "metadata": {},
     "output_type": "execute_result"
    }
   ],
   "source": [
    "from qiskit.visualization import plot_histogram\n",
    "\n",
    "result = job.result()\n",
    "counts = result.get_counts(qc)\n",
    "\n",
    "plot_histogram([counts], legend=['Device'])"
   ]
  }
 ],
 "metadata": {
  "kernelspec": {
   "display_name": "Python 3",
   "language": "python",
   "name": "python3"
  },
  "language_info": {
   "codemirror_mode": {
    "name": "ipython",
    "version": 3
   },
   "file_extension": ".py",
   "mimetype": "text/x-python",
   "name": "python",
   "nbconvert_exporter": "python",
   "pygments_lexer": "ipython3",
   "version": "3.7.0"
  }
 },
 "nbformat": 4,
 "nbformat_minor": 4
}
