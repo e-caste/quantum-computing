{
 "cells": [
  {
   "cell_type": "markdown",
   "metadata": {},
   "source": [
    "## Quantum Teleportation\n",
    "\n",
    "Quantum teleportation is:\n",
    "- not an actual movement of a qubit from one place to another\n",
    "- the only way to \"copy\" information from one qubit to another, see the \"No Cloning Theorem\" (essentially, if you measure a qubit to copy it, it will immediately collapse and its superposition state will be lost)\n",
    "- faster than light\n",
    "\n",
    "This circuit transfers the content of q0 to q2 via q1.  \n"
   ]
  },
  {
   "cell_type": "code",
   "execution_count": 1,
   "metadata": {},
   "outputs": [
    {
     "data": {
      "text/html": [
       "<pre style=\"word-wrap: normal;white-space: pre;background: #fff0;line-height: 1.1;font-family: &quot;Courier New&quot;,Courier,monospace\">        ┌───┐ ░                ┌───┐ ░ ┌─┐    ░            \n",
       "q_0: |0>┤ X ├─░─────────────■──┤ H ├─░─┤M├────░───────■────\n",
       "        └───┘ ░ ┌───┐     ┌─┴─┐└───┘ ░ └╥┘┌─┐ ░       │    \n",
       "q_1: |0>──────░─┤ H ├──■──┤ X ├──────░──╫─┤M├─░───■───┼────\n",
       "              ░ └───┘┌─┴─┐└───┘      ░  ║ └╥┘ ░ ┌─┴─┐ │ ┌─┐\n",
       "q_2: |0>──────░──────┤ X ├───────────░──╫──╫──░─┤ X ├─■─┤M├\n",
       "              ░      └───┘           ░  ║  ║  ░ └───┘   └╥┘\n",
       " c_0: 0 ════════════════════════════════╩══╬═════════════╬═\n",
       "                                           ║             ║ \n",
       " c_1: 0 ═══════════════════════════════════╩═════════════╬═\n",
       "                                                         ║ \n",
       " c_2: 0 ═════════════════════════════════════════════════╩═\n",
       "                                                           </pre>"
      ],
      "text/plain": [
       "<qiskit.visualization.text.TextDrawing at 0x12cbffd68>"
      ]
     },
     "execution_count": 1,
     "metadata": {},
     "output_type": "execute_result"
    }
   ],
   "source": [
    "# make quantum circuit\n",
    "import qiskit as q\n",
    "\n",
    "qc = q.QuantumCircuit(3, 3)  # 3 qbits mapped to 3 cbits\n",
    "\n",
    "# set q0 to value 1\n",
    "qc.x(0)\n",
    "qc.barrier()\n",
    "# entangle the 3 qbits\n",
    "qc.h(1)\n",
    "qc.cx(1, 2)\n",
    "qc.cx(0, 1)\n",
    "qc.h(0)\n",
    "qc.barrier()\n",
    "# measure (collapse) and apply CX and CZ gates if needed\n",
    "qc.measure([0, 1], [0, 1])\n",
    "qc.barrier()\n",
    "qc.cx(1, 2)\n",
    "qc.cz(0, 2)\n",
    "# measure q2 (which should always be 1, since it's copied from q0) to c2\n",
    "qc.measure(2, 2)\n",
    "\n",
    "\n",
    "qc.draw()"
   ]
  },
  {
   "cell_type": "code",
   "execution_count": 2,
   "metadata": {},
   "outputs": [
    {
     "data": {
      "text/plain": [
       "<AccountProvider for IBMQ(hub='ibm-q', group='open', project='main')>"
      ]
     },
     "execution_count": 2,
     "metadata": {},
     "output_type": "execute_result"
    }
   ],
   "source": [
    "q.IBMQ.load_account()"
   ]
  },
  {
   "cell_type": "code",
   "execution_count": 3,
   "metadata": {},
   "outputs": [
    {
     "name": "stdout",
     "output_type": "stream",
     "text": [
      "ibmqx2 has 13 queued and 5 qubits\n",
      "ibmq_16_melbourne has 8 queued and 14 qubits\n",
      "ibmq_vigo has 12 queued and 5 qubits\n",
      "ibmq_ourense has 63 queued and 5 qubits\n",
      "ibmq_london has 23 queued and 5 qubits\n",
      "ibmq_burlington has 7 queued and 5 qubits\n",
      "ibmq_essex has 8 queued and 5 qubits\n",
      "\n",
      "The chosen backend is ibmq_burlington, with a queue of 7 jobs.\n",
      "Job Status: job has successfully run\n"
     ]
    }
   ],
   "source": [
    "# run job on the least busy IBM quantum computer\n",
    "\n",
    "from qiskit.tools.monitor import job_monitor\n",
    "\n",
    "provider = q.IBMQ.get_provider(\"ibm-q\")\n",
    "queued = float(\"inf\")\n",
    "\n",
    "for backend in [backend for backend in provider.backends() if backend.properties()]: # discard simulator\n",
    "    print(f\"{backend.name()} has {backend.status().pending_jobs} queued and {len(backend.properties().qubits)} qubits\")\n",
    "    if backend.status().pending_jobs < queued:\n",
    "        queued = backend.status().pending_jobs\n",
    "        backend_to_use = backend\n",
    "        \n",
    "print(f\"\\nThe chosen backend is {backend_to_use.name()}, with a queue of {backend_to_use.status().pending_jobs} jobs.\")\n",
    "\n",
    "backend = provider.get_backend(backend_to_use.name())\n",
    "job = q.execute(qc, backend=backend, shots=2048)\n",
    "job_monitor(job)"
   ]
  },
  {
   "cell_type": "code",
   "execution_count": 4,
   "metadata": {},
   "outputs": [],
   "source": [
    "# run the same job on a simulator (which isn't subject to noise like a real quantum computer)\n",
    "\n",
    "sim = q.Aer.get_backend(\"qasm_simulator\")\n",
    "job_sim = q.execute(qc, backend=sim, shots=2048)"
   ]
  },
  {
   "cell_type": "code",
   "execution_count": 5,
   "metadata": {},
   "outputs": [
    {
     "data": {
      "image/png": "[encoded data removed]",
      "text/plain": [
       "<Figure size 504x360 with 1 Axes>"
      ]
     },
     "execution_count": 5,
     "metadata": {},
     "output_type": "execute_result"
    }
   ],
   "source": [
    "# plot result and see that all outcomes start with \"1\", where the first number is the MSB, in this case c2 (collapsed q2)\n",
    "\n",
    "from qiskit.visualization import plot_histogram\n",
    "\n",
    "counts_real = job.result().get_counts(qc)\n",
    "counts_simulated = job_sim.result().get_counts(qc)\n",
    "\n",
    "plot_histogram([counts_real, counts_simulated], legend=['Quantum Computer', 'Simulator'], color=['blue', 'orange'])"
   ]
  }
 ],
 "metadata": {
  "kernelspec": {
   "display_name": "Python 3",
   "language": "python",
   "name": "python3"
  },
  "language_info": {
   "codemirror_mode": {
    "name": "ipython",
    "version": 3
   },
   "file_extension": ".py",
   "mimetype": "text/x-python",
   "name": "python",
   "nbconvert_exporter": "python",
   "pygments_lexer": "ipython3",
   "version": "3.7.0"
  }
 },
 "nbformat": 4,
 "nbformat_minor": 4
}
