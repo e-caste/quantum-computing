{
 "cells": [
  {
   "cell_type": "markdown",
   "metadata": {},
   "source": [
    "## Quantum Teleportation\n",
    "\n",
    "Quantum teleportation is:\n",
    "- not an actual movement of a qubit from one place to another\n",
    "- the only way to \"copy\" information from one qubit to another, see the \"No Cloning Theorem\" (essentially, if you measure a qubit to copy it, it will immediately collapse and its superposition state will be lost)\n",
    "- faster than light\n",
    "\n",
    "This circuit transfers the content of q0 to q2 via q1.  \n"
   ]
  },
  {
   "cell_type": "code",
   "execution_count": 1,
   "metadata": {},
   "outputs": [
    {
     "data": {
      "image/png": "[encoded data removed]",
      "text/plain": [
       "<Figure size 939.12x264.88 with 1 Axes>"
      ]
     },
     "execution_count": 1,
     "metadata": {},
     "output_type": "execute_result"
    }
   ],
   "source": [
    "%matplotlib inline\n",
    "\n",
    "# make quantum circuit\n",
    "import qiskit as q\n",
    "\n",
    "qc = q.QuantumCircuit(3, 3)  # 3 qbits mapped to 3 cbits\n",
    "\n",
    "# set q0 to value 1\n",
    "qc.x(0)\n",
    "qc.barrier()\n",
    "# entangle the 3 qbits\n",
    "qc.h(1)\n",
    "qc.cx(1, 2)\n",
    "qc.cx(0, 1)\n",
    "qc.h(0)\n",
    "qc.barrier()\n",
    "# measure (collapse) and apply CX and CZ gates if needed\n",
    "qc.measure([0, 1], [0, 1])\n",
    "qc.barrier()\n",
    "qc.cx(1, 2)\n",
    "qc.cz(0, 2)\n",
    "# measure q2 (which should always be 1, since it's copied from q0) to c2\n",
    "qc.measure(2, 2)\n",
    "\n",
    "\n",
    "qc.draw(output='mpl')"
   ]
  },
  {
   "cell_type": "code",
   "execution_count": 2,
   "metadata": {},
   "outputs": [
    {
     "data": {
      "text/plain": [
       "<AccountProvider for IBMQ(hub='ibm-q', group='open', project='main')>"
      ]
     },
     "execution_count": 2,
     "metadata": {},
     "output_type": "execute_result"
    }
   ],
   "source": [
    "q.IBMQ.load_account()"
   ]
  },
  {
   "cell_type": "code",
   "execution_count": null,
   "metadata": {},
   "outputs": [
    {
     "name": "stdout",
     "output_type": "stream",
     "text": [
      "ibmqx2 has 0 queued and 5 qubits\n",
      "ibmq_16_melbourne has 0 queued and 14 qubits\n",
      "ibmq_vigo has 1 queued and 5 qubits\n",
      "ibmq_ourense has 44 queued and 5 qubits\n",
      "ibmq_london has 12 queued and 5 qubits\n",
      "ibmq_burlington has 0 queued and 5 qubits\n",
      "ibmq_essex has 1 queued and 5 qubits\n",
      "\n",
      "The chosen backend is ibmqx2, with a queue of 0 jobs.\n",
      "Job Status: job is actively running"
     ]
    }
   ],
   "source": [
    "# run job on the least busy IBM quantum computer\n",
    "\n",
    "from qiskit.tools.monitor import job_monitor\n",
    "\n",
    "provider = q.IBMQ.get_provider(\"ibm-q\")\n",
    "queued = float(\"inf\")\n",
    "\n",
    "for backend in [backend for backend in provider.backends() if backend.properties()]: # discard simulator\n",
    "    print(f\"{backend.name()} has {backend.status().pending_jobs} queued and {len(backend.properties().qubits)} qubits\")\n",
    "    if backend.status().pending_jobs < queued:\n",
    "        queued = backend.status().pending_jobs\n",
    "        backend_to_use = backend\n",
    "        \n",
    "print(f\"\\nThe chosen backend is {backend_to_use.name()}, with a queue of {backend_to_use.status().pending_jobs} jobs.\")\n",
    "\n",
    "backend = provider.get_backend(backend_to_use.name())\n",
    "job = q.execute(qc, backend=backend, shots=2048)\n",
    "job_monitor(job)"
   ]
  },
  {
   "cell_type": "code",
   "execution_count": null,
   "metadata": {},
   "outputs": [],
   "source": [
    "# run the same job on a simulator (which isn't subject to noise like a real quantum computer)\n",
    "\n",
    "sim = q.Aer.get_backend(\"qasm_simulator\")\n",
    "job_sim = q.execute(qc, backend=sim, shots=2048)"
   ]
  },
  {
   "cell_type": "code",
   "execution_count": null,
   "metadata": {},
   "outputs": [],
   "source": [
    "# mitigate quantum noise\n",
    "\n",
    "from qiskit.ignis.mitigation.measurement import (complete_meas_cal, CompleteMeasFitter)\n",
    "\n",
    "# qregs are the quantum registers\n",
    "calibration_circuits, state_labels = complete_meas_cal(qr=qc.qregs[0], circlabel=\"meas_error_mitig_cal\")\n",
    "# run on same backend as chosen above\n",
    "calibration_job = q.execute(calibration_circuits, backend=backend, shots=1024, optimization_level=0)\n",
    "job_monitor(calibration_job)\n",
    "\n",
    "# make measurement fitter\n",
    "meas_fitter = CompleteMeasFitter(calibration_job.result(), state_labels)\n",
    "# plot backend calibration offset\n",
    "print(f\"\\n{backend.name()}'s calibration plot:\")\n",
    "meas_fitter.plot_calibration()\n",
    "\n",
    "# mitigate noise in result via measurement filter\n",
    "counts_mitigated = meas_fitter.filter.apply(job.result()).get_counts(qc)"
   ]
  },
  {
   "cell_type": "code",
   "execution_count": null,
   "metadata": {},
   "outputs": [],
   "source": [
    "# plot result and see that all outcomes start with \"1\", where the first number is the MSB, in this case c2 (collapsed q2)\n",
    "\n",
    "from qiskit.visualization import plot_histogram\n",
    "\n",
    "counts_real = job.result().get_counts(qc)\n",
    "counts_simulated = job_sim.result().get_counts(qc)\n",
    "\n",
    "plot_histogram([counts_real, counts_mitigated, counts_simulated], legend=['Quantum Computer', 'Noise Mitigated', 'Simulator'])"
   ]
  }
 ],
 "metadata": {
  "kernelspec": {
   "display_name": "Python 3",
   "language": "python",
   "name": "python3"
  },
  "language_info": {
   "codemirror_mode": {
    "name": "ipython",
    "version": 3
   },
   "file_extension": ".py",
   "mimetype": "text/x-python",
   "name": "python",
   "nbconvert_exporter": "python",
   "pygments_lexer": "ipython3",
   "version": "3.7.0"
  }
 },
 "nbformat": 4,
 "nbformat_minor": 4
}
