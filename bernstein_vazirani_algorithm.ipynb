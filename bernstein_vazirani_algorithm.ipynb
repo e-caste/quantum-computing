{
 "cells": [
  {
   "cell_type": "markdown",
   "metadata": {},
   "source": [
    "## Bernstein-Vazirani's Algorithm\n",
    "\n",
    "This algorithm is one of the ones that are way more efficient on a quantum computer than on a classical computer.  \n",
    "It works as follows:\n",
    "- there's a secret number the algorithm has to guess\n",
    "- it finds it in one shot, no matter the size of the number\n",
    "\n",
    "On a classical computer, given an n-bit number (e.g. 1011 has n=4), the algorithm is as follows:\n",
    "- for n times, check with a bitwise AND operation if the nth bit is a 1"
   ]
  },
  {
   "cell_type": "code",
   "execution_count": 1,
   "metadata": {},
   "outputs": [
    {
     "name": "stdout",
     "output_type": "stream",
     "text": [
      "The secret number is 0000\n"
     ]
    },
    {
     "data": {
      "image/png": "[encoded data removed]",
      "text/plain": [
       "<Figure size 698.32x385.28 with 1 Axes>"
      ]
     },
     "execution_count": 1,
     "metadata": {},
     "output_type": "execute_result"
    }
   ],
   "source": [
    "%matplotlib inline\n",
    "\n",
    "import qiskit as q\n",
    "from qiskit.tools.visualization import plot_histogram\n",
    "from random import choice\n",
    "\n",
    "number_length = 4  # max 4 (there are 5 qubits in a real quantum computer)\n",
    "bits = ['0', '1']\n",
    "\n",
    "def make_circuit_for_number(number_length: int) -> q.QuantumCircuit:\n",
    "    # choose secret number\n",
    "    secret_number = \"\"\n",
    "    for bit in range(number_length):\n",
    "        secret_number += choice(bits)\n",
    "    print(f\"The secret number is {secret_number}\")\n",
    "\n",
    "    # make quantum circuit\n",
    "    qc = q.QuantumCircuit(number_length+1, number_length)  # qbits, cbits\n",
    "    qc.h(range(number_length))\n",
    "    qc.x(number_length)\n",
    "    qc.h(number_length)\n",
    "    qc.barrier()\n",
    "\n",
    "    for i, is_one in enumerate(reversed([(bit == '1') for bit in secret_number])):\n",
    "        if is_one:\n",
    "            qc.cx(i, number_length)\n",
    "\n",
    "    qc.barrier()\n",
    "    qc.h(range(number_length))\n",
    "    qc.measure(range(number_length), range(number_length))\n",
    "    \n",
    "    return qc\n",
    "\n",
    "qc = make_circuit_for_number(number_length)\n",
    "qc.draw(output='mpl')"
   ]
  },
  {
   "cell_type": "code",
   "execution_count": 2,
   "metadata": {},
   "outputs": [
    {
     "data": {
      "text/plain": [
       "<AccountProvider for IBMQ(hub='ibm-q', group='open', project='main')>"
      ]
     },
     "execution_count": 2,
     "metadata": {},
     "output_type": "execute_result"
    }
   ],
   "source": [
    "q.IBMQ.load_account()"
   ]
  },
  {
   "cell_type": "code",
   "execution_count": 3,
   "metadata": {},
   "outputs": [
    {
     "name": "stdout",
     "output_type": "stream",
     "text": [
      "ibmqx2 has 1 queued and 5 qubits\n",
      "ibmq_16_melbourne has 13 queued and 14 qubits\n",
      "ibmq_vigo has 0 queued and 5 qubits\n",
      "ibmq_ourense has 38 queued and 5 qubits\n",
      "ibmq_london has 12 queued and 5 qubits\n",
      "ibmq_burlington has 0 queued and 5 qubits\n",
      "ibmq_essex has 0 queued and 5 qubits\n",
      "\n",
      "The chosen backend is ibmq_vigo, with a queue of 0 jobs.\n",
      "Job Status: job has successfully run\n"
     ]
    }
   ],
   "source": [
    "# run on real quantum computer\n",
    "\n",
    "from qiskit.tools.monitor import job_monitor\n",
    "\n",
    "provider = q.IBMQ.get_provider(\"ibm-q\")\n",
    "queued = float(\"inf\")\n",
    "\n",
    "for backend in [backend for backend in provider.backends() if backend.properties()]: # discard simulator\n",
    "    print(f\"{backend.name()} has {backend.status().pending_jobs} queued and {len(backend.properties().qubits)} qubits\")\n",
    "    if backend.status().pending_jobs < queued:\n",
    "        queued = backend.status().pending_jobs\n",
    "        backend_to_use = backend\n",
    "        \n",
    "print(f\"\\nThe chosen backend is {backend_to_use.name()}, with a queue of {backend_to_use.status().pending_jobs} jobs.\")\n",
    "\n",
    "backend = provider.get_backend(backend_to_use.name())\n",
    "# only one shot is required for this algorithm, instead of the 2*n loops required for a classical computer\n",
    "# running 10 times since noise could deviate the result\n",
    "job = q.execute(qc, backend=backend, shots=10)  \n",
    "job_monitor(job)"
   ]
  },
  {
   "cell_type": "code",
   "execution_count": 4,
   "metadata": {},
   "outputs": [
    {
     "name": "stdout",
     "output_type": "stream",
     "text": [
      "The secret number is 1001011101000011001110101111011011100101000101011011010010101100011000010010110101100010000100011110\n"
     ]
    }
   ],
   "source": [
    "# run on simulator (max 32 qubits)\n",
    "\n",
    "qc = make_circuit_for_number(number_length=100)\n",
    "# qc.draw(output='mpl')  # only draws first circuit\n",
    "\n",
    "sim = q.Aer.get_backend(\"qasm_simulator\")\n",
    "job_sim = q.execute(qc, backend=sim, shots=1)"
   ]
  },
  {
   "cell_type": "code",
   "execution_count": 5,
   "metadata": {},
   "outputs": [
    {
     "name": "stdout",
     "output_type": "stream",
     "text": [
      "Real Quantum Computer:\n",
      "The secret number was {'0000': 6, '0010': 1, '0001': 3}\n",
      "\n",
      "Simulator:\n",
      "The secret number was {'1001011101000011001110101111011011100101000101011011010010101100011000010010110101100010000100011110': 1}\n"
     ]
    }
   ],
   "source": [
    "# print results\n",
    "\n",
    "print(\"Real Quantum Computer:\")\n",
    "print(f\"The secret number was {job.result().get_counts()}\")\n",
    "\n",
    "print(\"\\nSimulator:\")\n",
    "print(f\"The secret number was {job_sim.result().get_counts()}\")"
   ]
  }
 ],
 "metadata": {
  "kernelspec": {
   "display_name": "Python 3",
   "language": "python",
   "name": "python3"
  },
  "language_info": {
   "codemirror_mode": {
    "name": "ipython",
    "version": 3
   },
   "file_extension": ".py",
   "mimetype": "text/x-python",
   "name": "python",
   "nbconvert_exporter": "python",
   "pygments_lexer": "ipython3",
   "version": "3.7.0"
  }
 },
 "nbformat": 4,
 "nbformat_minor": 4
}
